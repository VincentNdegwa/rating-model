{
 "cells": [
  {
   "cell_type": "code",
   "execution_count": 6,
   "metadata": {},
   "outputs": [
    {
     "name": "stdout",
     "output_type": "stream",
     "text": [
      "R-squared: 0.59\n",
      "Mean Absolute Error: 0.45\n"
     ]
    },
    {
     "data": {
      "text/plain": [
       "['imdb_rating_prediiction_model.pkl']"
      ]
     },
     "execution_count": 6,
     "metadata": {},
     "output_type": "execute_result"
    }
   ],
   "source": [
    "import pandas as pd\n",
    "from sklearn.model_selection import train_test_split\n",
    "from sklearn.linear_model import LinearRegression\n",
    "from sklearn.metrics import r2_score, mean_absolute_error\n",
    "\n",
    "import joblib\n",
    "\n",
    "\n",
    "# reading the data\n",
    "movies_ds = pd.read_csv(\"imdb-movies-dataset.csv\")\n",
    "# dropping categorical data and unuseful data\n",
    "x =movies_ds.drop(columns=[  'Poster', 'Title', 'Description', 'Review', 'Review Title', 'Certificate', \"Genre\", \"Director\",\"Cast\" ])\n",
    "# converting the datatypes to floats or in\n",
    "x['Votes'] = x['Votes'].replace({',': ''}, regex=True).astype(float)\n",
    "x['Review Count'] = x['Review Count'].replace({',': ''}, regex=True).astype(float)\n",
    "# dropping an X feature data that has null/NA data\n",
    "x=x.dropna()\n",
    "y = x[\"Rating\"]\n",
    "\n",
    "x= x.drop(columns=['Rating'])\n",
    "\n",
    "\n",
    "\n",
    "# spliting the data nto test and training data\n",
    "X_train, X_test, y_train, y_test = train_test_split(x, y, test_size=0.2, random_state=42)\n",
    "\n",
    "\n",
    "model = LinearRegression()\n",
    "\n",
    "\n",
    "model.fit(X_train, y_train)\n",
    "\n",
    "y_pred = model.predict(X_test)\n",
    "# Calculating accuracy metrics\n",
    "r2 = r2_score(y_test, y_pred)  # R-squared score\n",
    "mae = mean_absolute_error(y_test, y_pred)  # Mean Absolute Error\n",
    "\n",
    "print(f\"R-squared: {r2:.2f}\")\n",
    "print(f\"Mean Absolute Error: {mae:.2f}\")\n",
    "\n",
    "# bundling the trained model so that it can be reused\n",
    "joblib.dump(model, 'imdb_rating_prediiction_model.pkl')\n",
    "\n"
   ]
  }
 ],
 "metadata": {
  "kernelspec": {
   "display_name": "Python 3",
   "language": "python",
   "name": "python3"
  },
  "language_info": {
   "codemirror_mode": {
    "name": "ipython",
    "version": 3
   },
   "file_extension": ".py",
   "mimetype": "text/x-python",
   "name": "python",
   "nbconvert_exporter": "python",
   "pygments_lexer": "ipython3",
   "version": "3.10.12"
  }
 },
 "nbformat": 4,
 "nbformat_minor": 2
}
